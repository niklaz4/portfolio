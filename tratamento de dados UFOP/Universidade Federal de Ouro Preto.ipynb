{
 "cells": [
  {
   "cell_type": "code",
   "execution_count": 1,
   "id": "fad085f5-9f95-4ac7-a0bd-b63584e51746",
   "metadata": {
    "tags": []
   },
   "outputs": [],
   "source": [
    "import numpy as np\n",
    "import pandas as pd\n",
    "import matplotlib.pyplot as plt\n",
    "import seaborn as sns\n",
    "%matplotlib inline"
   ]
  },
  {
   "cell_type": "code",
   "execution_count": 13,
   "id": "b522800c-a2e3-4052-b1e5-245d26af3e1e",
   "metadata": {
    "tags": []
   },
   "outputs": [
    {
     "data": {
      "text/html": [
       "<div>\n",
       "<style scoped>\n",
       "    .dataframe tbody tr th:only-of-type {\n",
       "        vertical-align: middle;\n",
       "    }\n",
       "\n",
       "    .dataframe tbody tr th {\n",
       "        vertical-align: top;\n",
       "    }\n",
       "\n",
       "    .dataframe thead th {\n",
       "        text-align: right;\n",
       "    }\n",
       "</style>\n",
       "<table border=\"1\" class=\"dataframe\">\n",
       "  <thead>\n",
       "    <tr style=\"text-align: right;\">\n",
       "      <th></th>\n",
       "      <th>Organização</th>\n",
       "      <th>Nome</th>\n",
       "      <th>Descrição</th>\n",
       "      <th>Tags</th>\n",
       "      <th>Quantidade Recursos</th>\n",
       "      <th>Quantidade Reusos</th>\n",
       "      <th>Quantidade Downloads</th>\n",
       "      <th>Quantidade Seguidores</th>\n",
       "    </tr>\n",
       "  </thead>\n",
       "  <tbody>\n",
       "    <tr>\n",
       "      <th>0</th>\n",
       "      <td>Universidade Federal de Ouro Preto - UFOP</td>\n",
       "      <td>Serviços de Atendimento</td>\n",
       "      <td>Relação de projetos de TI geridos pelo Núcleo ...</td>\n",
       "      <td>Gestão,Projeto,Tecnologia da Informação</td>\n",
       "      <td>2</td>\n",
       "      <td>0</td>\n",
       "      <td>29</td>\n",
       "      <td>0</td>\n",
       "    </tr>\n",
       "    <tr>\n",
       "      <th>1</th>\n",
       "      <td>Universidade Federal de Ouro Preto - UFOP</td>\n",
       "      <td>Servidores</td>\n",
       "      <td>Servidores ativos do quadro efetivo da UFOP</td>\n",
       "      <td>Gestão de Pessoas,Servidor</td>\n",
       "      <td>2</td>\n",
       "      <td>0</td>\n",
       "      <td>7</td>\n",
       "      <td>0</td>\n",
       "    </tr>\n",
       "    <tr>\n",
       "      <th>2</th>\n",
       "      <td>Universidade Federal de Ouro Preto - UFOP</td>\n",
       "      <td>Projetos de Pesquisa</td>\n",
       "      <td>Conjunto de dados referente aos projetos de pe...</td>\n",
       "      <td>pesquisa,projetos</td>\n",
       "      <td>2</td>\n",
       "      <td>0</td>\n",
       "      <td>6</td>\n",
       "      <td>0</td>\n",
       "    </tr>\n",
       "    <tr>\n",
       "      <th>3</th>\n",
       "      <td>Universidade Federal de Ouro Preto - UFOP</td>\n",
       "      <td>Quantitativos de matriculados 2019-1</td>\n",
       "      <td>Quantitativo de estudantes matriculados no sem...</td>\n",
       "      <td>2019-1,Alunos Matriculados,graduação</td>\n",
       "      <td>2</td>\n",
       "      <td>0</td>\n",
       "      <td>8</td>\n",
       "      <td>0</td>\n",
       "    </tr>\n",
       "    <tr>\n",
       "      <th>4</th>\n",
       "      <td>Universidade Federal de Ouro Preto - UFOP</td>\n",
       "      <td>Quantitativos de matriculados 2018-1</td>\n",
       "      <td>Quantitativo de estudantes matriculados no sem...</td>\n",
       "      <td>2018-1,Alunos Matriculados,graduação</td>\n",
       "      <td>2</td>\n",
       "      <td>0</td>\n",
       "      <td>5</td>\n",
       "      <td>0</td>\n",
       "    </tr>\n",
       "  </tbody>\n",
       "</table>\n",
       "</div>"
      ],
      "text/plain": [
       "                                 Organização  \\\n",
       "0  Universidade Federal de Ouro Preto - UFOP   \n",
       "1  Universidade Federal de Ouro Preto - UFOP   \n",
       "2  Universidade Federal de Ouro Preto - UFOP   \n",
       "3  Universidade Federal de Ouro Preto - UFOP   \n",
       "4  Universidade Federal de Ouro Preto - UFOP   \n",
       "\n",
       "                                   Nome  \\\n",
       "0               Serviços de Atendimento   \n",
       "1                            Servidores   \n",
       "2                  Projetos de Pesquisa   \n",
       "3  Quantitativos de matriculados 2019-1   \n",
       "4  Quantitativos de matriculados 2018-1   \n",
       "\n",
       "                                           Descrição  \\\n",
       "0  Relação de projetos de TI geridos pelo Núcleo ...   \n",
       "1        Servidores ativos do quadro efetivo da UFOP   \n",
       "2  Conjunto de dados referente aos projetos de pe...   \n",
       "3  Quantitativo de estudantes matriculados no sem...   \n",
       "4  Quantitativo de estudantes matriculados no sem...   \n",
       "\n",
       "                                      Tags  Quantidade Recursos  \\\n",
       "0  Gestão,Projeto,Tecnologia da Informação                    2   \n",
       "1               Gestão de Pessoas,Servidor                    2   \n",
       "2                        pesquisa,projetos                    2   \n",
       "3     2019-1,Alunos Matriculados,graduação                    2   \n",
       "4     2018-1,Alunos Matriculados,graduação                    2   \n",
       "\n",
       "   Quantidade Reusos  Quantidade Downloads  Quantidade Seguidores  \n",
       "0                  0                    29                      0  \n",
       "1                  0                     7                      0  \n",
       "2                  0                     6                      0  \n",
       "3                  0                     8                      0  \n",
       "4                  0                     5                      0  "
      ]
     },
     "execution_count": 13,
     "metadata": {},
     "output_type": "execute_result"
    }
   ],
   "source": [
    "df = pd.read_csv('conjunto-dados.csv', delimiter=';')\n",
    "\n",
    "df.shape\n",
    "df.head()"
   ]
  },
  {
   "cell_type": "code",
   "execution_count": 14,
   "id": "e28571c7-3aad-49f7-b811-bbdc164e2f4a",
   "metadata": {},
   "outputs": [
    {
     "data": {
      "text/plain": [
       "Index(['Organização', 'Nome', 'Descrição', 'Tags', 'Quantidade Recursos',\n",
       "       'Quantidade Reusos', 'Quantidade Downloads', 'Quantidade Seguidores'],\n",
       "      dtype='object')"
      ]
     },
     "execution_count": 14,
     "metadata": {},
     "output_type": "execute_result"
    }
   ],
   "source": [
    "df.columns"
   ]
  },
  {
   "cell_type": "code",
   "execution_count": 15,
   "id": "ce8fb4eb-c2df-4467-93d4-472b3da60a8c",
   "metadata": {},
   "outputs": [
    {
     "data": {
      "text/plain": [
       "Organização               0\n",
       "Nome                      0\n",
       "Descrição                 0\n",
       "Tags                     11\n",
       "Quantidade Recursos       0\n",
       "Quantidade Reusos         0\n",
       "Quantidade Downloads      0\n",
       "Quantidade Seguidores     0\n",
       "dtype: int64"
      ]
     },
     "execution_count": 15,
     "metadata": {},
     "output_type": "execute_result"
    }
   ],
   "source": [
    "df.isnull().sum()"
   ]
  },
  {
   "cell_type": "code",
   "execution_count": 22,
   "id": "febcc19e-6791-467e-b437-d10d8cadd99c",
   "metadata": {},
   "outputs": [
    {
     "data": {
      "text/plain": [
       "Organização              0\n",
       "Nome                     0\n",
       "Descrição                0\n",
       "Tags                     0\n",
       "Quantidade Recursos      0\n",
       "Quantidade Reusos        0\n",
       "Quantidade Downloads     0\n",
       "Quantidade Seguidores    0\n",
       "dtype: int64"
      ]
     },
     "execution_count": 22,
     "metadata": {},
     "output_type": "execute_result"
    }
   ],
   "source": [
    "# Preencher valores nulos na coluna 'Tags' com zero\n",
    "df['Tags'].fillna(0, inplace=True)\n",
    "\n",
    "# Substituir valores não numéricos na coluna 'Tags' por zero\n",
    "df['Tags'] = pd.to_numeric(df['Tags'], errors='coerce').fillna(0).astype(int)\n",
    "\n",
    "df.isnull().sum()"
   ]
  },
  {
   "cell_type": "code",
   "execution_count": 23,
   "id": "7b17304c-eb40-450c-8874-491fd2cbf149",
   "metadata": {},
   "outputs": [
    {
     "data": {
      "text/html": [
       "<div>\n",
       "<style scoped>\n",
       "    .dataframe tbody tr th:only-of-type {\n",
       "        vertical-align: middle;\n",
       "    }\n",
       "\n",
       "    .dataframe tbody tr th {\n",
       "        vertical-align: top;\n",
       "    }\n",
       "\n",
       "    .dataframe thead th {\n",
       "        text-align: right;\n",
       "    }\n",
       "</style>\n",
       "<table border=\"1\" class=\"dataframe\">\n",
       "  <thead>\n",
       "    <tr style=\"text-align: right;\">\n",
       "      <th></th>\n",
       "      <th>Organização</th>\n",
       "      <th>Nome</th>\n",
       "      <th>Descrição</th>\n",
       "      <th>Tags</th>\n",
       "      <th>Quantidade Recursos</th>\n",
       "      <th>Quantidade Reusos</th>\n",
       "      <th>Quantidade Downloads</th>\n",
       "      <th>Quantidade Seguidores</th>\n",
       "    </tr>\n",
       "  </thead>\n",
       "  <tbody>\n",
       "    <tr>\n",
       "      <th>0</th>\n",
       "      <td>Universidade Federal de Ouro Preto - UFOP</td>\n",
       "      <td>Serviços de Atendimento</td>\n",
       "      <td>Relação de projetos de TI geridos pelo Núcleo ...</td>\n",
       "      <td>0</td>\n",
       "      <td>2</td>\n",
       "      <td>0</td>\n",
       "      <td>29</td>\n",
       "      <td>0</td>\n",
       "    </tr>\n",
       "    <tr>\n",
       "      <th>1</th>\n",
       "      <td>Universidade Federal de Ouro Preto - UFOP</td>\n",
       "      <td>Servidores</td>\n",
       "      <td>Servidores ativos do quadro efetivo da UFOP</td>\n",
       "      <td>0</td>\n",
       "      <td>2</td>\n",
       "      <td>0</td>\n",
       "      <td>7</td>\n",
       "      <td>0</td>\n",
       "    </tr>\n",
       "    <tr>\n",
       "      <th>2</th>\n",
       "      <td>Universidade Federal de Ouro Preto - UFOP</td>\n",
       "      <td>Projetos de Pesquisa</td>\n",
       "      <td>Conjunto de dados referente aos projetos de pe...</td>\n",
       "      <td>0</td>\n",
       "      <td>2</td>\n",
       "      <td>0</td>\n",
       "      <td>6</td>\n",
       "      <td>0</td>\n",
       "    </tr>\n",
       "    <tr>\n",
       "      <th>3</th>\n",
       "      <td>Universidade Federal de Ouro Preto - UFOP</td>\n",
       "      <td>Quantitativos de matriculados 2019-1</td>\n",
       "      <td>Quantitativo de estudantes matriculados no sem...</td>\n",
       "      <td>0</td>\n",
       "      <td>2</td>\n",
       "      <td>0</td>\n",
       "      <td>8</td>\n",
       "      <td>0</td>\n",
       "    </tr>\n",
       "    <tr>\n",
       "      <th>4</th>\n",
       "      <td>Universidade Federal de Ouro Preto - UFOP</td>\n",
       "      <td>Quantitativos de matriculados 2018-1</td>\n",
       "      <td>Quantitativo de estudantes matriculados no sem...</td>\n",
       "      <td>0</td>\n",
       "      <td>2</td>\n",
       "      <td>0</td>\n",
       "      <td>5</td>\n",
       "      <td>0</td>\n",
       "    </tr>\n",
       "  </tbody>\n",
       "</table>\n",
       "</div>"
      ],
      "text/plain": [
       "                                 Organização  \\\n",
       "0  Universidade Federal de Ouro Preto - UFOP   \n",
       "1  Universidade Federal de Ouro Preto - UFOP   \n",
       "2  Universidade Federal de Ouro Preto - UFOP   \n",
       "3  Universidade Federal de Ouro Preto - UFOP   \n",
       "4  Universidade Federal de Ouro Preto - UFOP   \n",
       "\n",
       "                                   Nome  \\\n",
       "0               Serviços de Atendimento   \n",
       "1                            Servidores   \n",
       "2                  Projetos de Pesquisa   \n",
       "3  Quantitativos de matriculados 2019-1   \n",
       "4  Quantitativos de matriculados 2018-1   \n",
       "\n",
       "                                           Descrição  Tags  \\\n",
       "0  Relação de projetos de TI geridos pelo Núcleo ...     0   \n",
       "1        Servidores ativos do quadro efetivo da UFOP     0   \n",
       "2  Conjunto de dados referente aos projetos de pe...     0   \n",
       "3  Quantitativo de estudantes matriculados no sem...     0   \n",
       "4  Quantitativo de estudantes matriculados no sem...     0   \n",
       "\n",
       "   Quantidade Recursos  Quantidade Reusos  Quantidade Downloads  \\\n",
       "0                    2                  0                    29   \n",
       "1                    2                  0                     7   \n",
       "2                    2                  0                     6   \n",
       "3                    2                  0                     8   \n",
       "4                    2                  0                     5   \n",
       "\n",
       "   Quantidade Seguidores  \n",
       "0                      0  \n",
       "1                      0  \n",
       "2                      0  \n",
       "3                      0  \n",
       "4                      0  "
      ]
     },
     "execution_count": 23,
     "metadata": {},
     "output_type": "execute_result"
    }
   ],
   "source": [
    "df.head()"
   ]
  },
  {
   "cell_type": "code",
   "execution_count": 29,
   "id": "0c266e38-616c-43d6-b45e-f193fcd96f2e",
   "metadata": {
    "tags": []
   },
   "outputs": [
    {
     "data": {
      "text/plain": [
       "586"
      ]
     },
     "execution_count": 29,
     "metadata": {},
     "output_type": "execute_result"
    }
   ],
   "source": [
    "#visualização de dados a partir de agora\n",
    "#comecemos com quantidade de downloads\n",
    "\n",
    "qtd_downloads = df['Quantidade Downloads'].sum()\n",
    "qtd_downloads"
   ]
  },
  {
   "cell_type": "code",
   "execution_count": 30,
   "id": "00406e99-ae24-4e79-9aa2-8a90e4edaa1d",
   "metadata": {
    "tags": []
   },
   "outputs": [
    {
     "data": {
      "text/plain": [
       "353"
      ]
     },
     "execution_count": 30,
     "metadata": {},
     "output_type": "execute_result"
    }
   ],
   "source": [
    "#quantidade recursos\n",
    "qtd_rec = df['Quantidade Recursos'].sum()\n",
    "qtd_rec"
   ]
  },
  {
   "cell_type": "code",
   "execution_count": 31,
   "id": "c00cac30-1481-475e-ba0e-8ad97053a9b5",
   "metadata": {
    "tags": []
   },
   "outputs": [
    {
     "data": {
      "text/plain": [
       "0"
      ]
     },
     "execution_count": 31,
     "metadata": {},
     "output_type": "execute_result"
    }
   ],
   "source": [
    "#qtd reusos\n",
    "qtd_reu = df['Quantidade Reusos'].sum()\n",
    "qtd_reu"
   ]
  },
  {
   "cell_type": "code",
   "execution_count": 32,
   "id": "edab9937-265e-4de9-a9fb-90e2fc5ded4e",
   "metadata": {
    "tags": []
   },
   "outputs": [
    {
     "data": {
      "text/plain": [
       "0"
      ]
     },
     "execution_count": 32,
     "metadata": {},
     "output_type": "execute_result"
    }
   ],
   "source": [
    "#qtd seguidores\n",
    "qtd_seg = df['Quantidade Seguidores'].sum()\n",
    "qtd_seg"
   ]
  },
  {
   "cell_type": "code",
   "execution_count": 37,
   "id": "2c7d9643-d5ff-4b8b-9f7e-c0807dde6e2b",
   "metadata": {
    "tags": []
   },
   "outputs": [
    {
     "data": {
      "image/png": "[encoded data removed]",
      "text/plain": [
       "<Figure size 800x600 with 1 Axes>"
      ]
     },
     "metadata": {},
     "output_type": "display_data"
    }
   ],
   "source": [
    "#montar graficos\n",
    "\n",
    "# Criar dados para o gráfico\n",
    "cat = ['Quantidade Downloads', ' Quantidade Reusos', 'Quantidade Recursos']\n",
    "quant = [qtd_downloads, qtd_reu, qtd_rec]\n",
    "\n",
    "# Criar o gráfico de barras\n",
    "plt.figure(figsize=(8, 6))\n",
    "plt.bar(cat, quant, color=['blue', 'green', 'red'])\n",
    "plt.xlabel('Categorias')\n",
    "plt.ylabel('Quantidade')\n",
    "plt.title('Quantidade de Downloads e Reusos')\n",
    "plt.show()\n"
   ]
  },
  {
   "cell_type": "code",
   "execution_count": 38,
   "id": "c6991e38-27c0-4a6f-98a6-ce126a1b5a4d",
   "metadata": {
    "tags": []
   },
   "outputs": [
    {
     "data": {
      "image/png": "[encoded data removed]",
      "text/plain": [
       "<Figure size 1000x600 with 1 Axes>"
      ]
     },
     "metadata": {},
     "output_type": "display_data"
    }
   ],
   "source": [
    "# Ordenar o DataFrame pelos maiores downloads\n",
    "top_downloads = df.sort_values(by='Quantidade Downloads', ascending=False).head(10)\n",
    "\n",
    "# Criar o gráfico de barras horizontais\n",
    "plt.figure(figsize=(10, 6))\n",
    "plt.barh(top_downloads['Nome'], top_downloads['Quantidade Downloads'], color='skyblue')\n",
    "plt.xlabel('Quantidade de Downloads')\n",
    "plt.ylabel('Nome do Recurso')\n",
    "plt.title('Top 10 Recursos com Maior Quantidade de Downloads')\n",
    "plt.gca().invert_yaxis()  # Inverter o eixo y para mostrar a entrada com o maior download no topo\n",
    "plt.show()\n"
   ]
  },
  {
   "cell_type": "code",
   "execution_count": 40,
   "id": "e8535aa3-f480-4fc2-ae05-36a88da93e48",
   "metadata": {
    "tags": []
   },
   "outputs": [
    {
     "data": {
      "text/plain": [
       "count    60.000000\n",
       "mean      9.766667\n",
       "std      16.229672\n",
       "min       0.000000\n",
       "25%       0.000000\n",
       "50%       4.000000\n",
       "75%       8.500000\n",
       "max      85.000000\n",
       "Name: Quantidade Downloads, dtype: float64"
      ]
     },
     "execution_count": 40,
     "metadata": {},
     "output_type": "execute_result"
    }
   ],
   "source": [
    "df['Quantidade Downloads'].describe()"
   ]
  },
  {
   "cell_type": "code",
   "execution_count": 41,
   "id": "9cc264fd-20d2-44d7-8931-583a47b911f1",
   "metadata": {
    "tags": []
   },
   "outputs": [],
   "source": [
    "#média de downloads: 9,76"
   ]
  },
  {
   "cell_type": "code",
   "execution_count": 42,
   "id": "ead87783-d467-42c4-8706-627b1769c4c1",
   "metadata": {
    "tags": []
   },
   "outputs": [],
   "source": [
    "df.to_csv('conjunto-dados-tratados.csv', index=False)"
   ]
  },
  {
   "cell_type": "code",
   "execution_count": null,
   "id": "4b49546f-4b18-4b0b-b5cd-494648187e74",
   "metadata": {},
   "outputs": [],
   "source": []
  }
 ],
 "metadata": {
  "kernelspec": {
   "display_name": "Python 3 (ipykernel)",
   "language": "python",
   "name": "python3"
  },
  "language_info": {
   "codemirror_mode": {
    "name": "ipython",
    "version": 3
   },
   "file_extension": ".py",
   "mimetype": "text/x-python",
   "name": "python",
   "nbconvert_exporter": "python",
   "pygments_lexer": "ipython3",
   "version": "3.11.5"
  }
 },
 "nbformat": 4,
 "nbformat_minor": 5
}
