{
  "nbformat": 4,
  "nbformat_minor": 0,
  "metadata": {
    "colab": {
      "provenance": []
    },
    "kernelspec": {
      "name": "python3",
      "display_name": "Python 3"
    },
    "language_info": {
      "name": "python"
    }
  },
  "cells": [
    {
      "cell_type": "code",
      "source": [
        "import pandas as pd\n",
        "import numpy as np\n",
        "import matplotlib.pyplot as plt\n",
        "import os\n",
        "from google.colab import drive\n",
        "drive.mount('/content/drive', force_remount=True)\n",
        "\n",
        "df = pd.read_csv('/content/drive/MyDrive/datasets/top youtube artist/topyoutube.csv')\n",
        "\n",
        "# Tratar colunas sem informação adicionando \"Não informado\"\n",
        "df.fillna('Não informado', inplace=True)\n",
        "\n",
        "# Verificar se as colunas sem informação foram tratadas corretamente\n",
        "df.head()\n",
        "\n",
        "# Verificar estatísticas sumárias para verificar se há valores nulos restantes\n",
        "df.describe()\n",
        "\n",
        "# Verificar se há valores nulos em cada coluna após o tratamento\n",
        "df.isnull().sum()\n",
        "\n",
        "# Formatar a coluna de total de inscritos multiplicando por 100\n",
        "df['Total Views'] *= 100\n",
        "\n",
        "# Arredonde a coluna \"AVG\" para 2 casas decimais após a vírgula\n",
        "df['Avg'] = df['Avg'].apply(lambda x: '{:.2f}'.format(x))\n",
        "\n",
        "# Classificar o DataFrame pelos 'Total Views' em ordem decrescente e obter os top 10 usuários\n",
        "top_10_usuarios = df.sort_values(by='Total Views', ascending=False).head(10)\n",
        "\n",
        "top_10_usuarios.head(10)\n",
        "\n",
        "# Classificar o DataFrame pelos nomes em ordem decrescente e obter os primeiros 100 usuários\n",
        "primeiros_100_usuarios = df.sort_values(by='Artist', ascending=False).head(100)\n",
        "\n",
        "primeiros_100_usuarios.head(100)\n",
        "\n",
        "# Caminho do diretório onde você deseja salvar o arquivo tratado\n",
        "diretorio = '/content/drive/MyDrive/datasets/top youtube artist/'\n",
        "\n",
        "# Verificar se o diretório existe, se não existir, criar o diretório\n",
        "if not os.path.exists(diretorio):\n",
        "    os.makedirs(diretorio)\n",
        "\n",
        "# Salvar o DataFrame em um novo arquivo CSV no diretório criado\n",
        "df.to_csv(os.path.join(diretorio, 'topyoutube_tratado.csv'), index=False)\n"
      ],
      "metadata": {
        "colab": {
          "base_uri": "https://localhost:8080/"
        },
        "id": "9yIH6biMHa5B",
        "outputId": "2e27298b-ecd2-4013-b21b-bbfcfe3612ae"
      },
      "execution_count": 1,
      "outputs": [
        {
          "output_type": "stream",
          "name": "stdout",
          "text": [
            "Mounted at /content/drive\n"
          ]
        }
      ]
    }
  ]
}